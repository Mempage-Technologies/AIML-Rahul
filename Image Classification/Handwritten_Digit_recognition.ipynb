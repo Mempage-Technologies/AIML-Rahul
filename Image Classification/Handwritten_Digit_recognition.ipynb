{
 "cells": [
  {
   "cell_type": "markdown",
   "metadata": {},
   "source": [
    "# Handwritten Digit Recognition using DNN (MNIST Dataset)\n",
    "\n",
    "The training is stopped when the accuracy is reached more than 99%. The testing accuracy is almost 98%. This is an acceptable result."
   ]
  },
  {
   "cell_type": "markdown",
   "metadata": {
    "colab_type": "text",
    "id": "WzNfsnShVF8I"
   },
   "source": [
    "### **Importing the required modules**"
   ]
  },
  {
   "cell_type": "code",
   "execution_count": 1,
   "metadata": {
    "colab": {},
    "colab_type": "code",
    "id": "bJSwBNPUVCYv"
   },
   "outputs": [],
   "source": [
    "import tensorflow as tf\n",
    "import numpy as np\n",
    "from tensorflow import keras\n",
    "import matplotlib.pyplot as plt"
   ]
  },
  {
   "cell_type": "markdown",
   "metadata": {
    "colab_type": "text",
    "id": "sZb1Tr4gLXfd"
   },
   "source": [
    "### **Getting the data**"
   ]
  },
  {
   "cell_type": "code",
   "execution_count": 11,
   "metadata": {
    "colab": {
     "base_uri": "https://localhost:8080/",
     "height": 282
    },
    "colab_type": "code",
    "id": "Ou07WbvEVVo0",
    "outputId": "aae31878-48ee-4ab9-eb4d-7cbbd0dcfa5a"
   },
   "outputs": [
    {
     "name": "stdout",
     "output_type": "stream",
     "text": [
      "<class 'numpy.ndarray'>\n",
      "5\n"
     ]
    },
    {
     "data": {
      "image/png": "[encoded data removed]",
      "text/plain": [
       "<Figure size 432x288 with 1 Axes>"
      ]
     },
     "metadata": {
      "needs_background": "light"
     },
     "output_type": "display_data"
    }
   ],
   "source": [
    "mnist = keras.datasets.mnist\n",
    "(training_images, training_labels), (test_images, test_labels) = mnist.load_data()\n",
    "\n",
    "#normalize the data\n",
    "training_images = training_images/255.0\n",
    "test_images     = test_images/255.0\n",
    "\n",
    "print(type(training_images))\n",
    "\n",
    "plt.imshow(training_images[0])\n",
    "print(training_labels[0])"
   ]
  },
  {
   "cell_type": "markdown",
   "metadata": {
    "colab_type": "text",
    "id": "0RUfncOwMESv"
   },
   "source": [
    "### **Callbacks**"
   ]
  },
  {
   "cell_type": "code",
   "execution_count": 3,
   "metadata": {
    "colab": {},
    "colab_type": "code",
    "id": "JdiFbyapMH_V"
   },
   "outputs": [],
   "source": [
    "#the callback that runs when the training reaches 99%\n",
    "\n",
    "class MyCallback(keras.callbacks.Callback):\n",
    "\n",
    "  def on_epoch_end(self, epoch, logs={}):\n",
    "    if(logs.get('accuracy') >= 0.99):\n",
    "      print(\"Reached 99% accuracy so cancelling training!\")\n",
    "      self.model.stop_training = True"
   ]
  },
  {
   "cell_type": "markdown",
   "metadata": {
    "colab_type": "text",
    "id": "UeF4-xlaw-QN"
   },
   "source": [
    "### **Create the model, compile and fit it**"
   ]
  },
  {
   "cell_type": "code",
   "execution_count": 4,
   "metadata": {
    "colab": {},
    "colab_type": "code",
    "id": "TgBIIuByVqDV"
   },
   "outputs": [],
   "source": [
    "#create the model\n",
    "model = keras.models.Sequential([\n",
    "                                    \n",
    "                  keras.layers.Flatten(input_shape=(28,28)),\n",
    "                  keras.layers.Dense(256, activation='relu'),\n",
    "                  keras.layers.Dense(10, activation='softmax')\n",
    "                  ])"
   ]
  },
  {
   "cell_type": "code",
   "execution_count": 5,
   "metadata": {
    "colab": {},
    "colab_type": "code",
    "id": "eMx4V3WWV6nU"
   },
   "outputs": [],
   "source": [
    "#compile the model\n",
    "model.compile(optimizer='adam', \n",
    "              loss='sparse_categorical_crossentropy',\n",
    "              metrics=['accuracy'])"
   ]
  },
  {
   "cell_type": "code",
   "execution_count": 6,
   "metadata": {
    "colab": {
     "base_uri": "https://localhost:8080/",
     "height": 292
    },
    "colab_type": "code",
    "id": "m3Lq0J7hLz2e",
    "outputId": "94867c48-ffe1-45ad-848a-ff9650d694a4"
   },
   "outputs": [
    {
     "name": "stdout",
     "output_type": "stream",
     "text": [
      "Train on 60000 samples\n",
      "Epoch 1/10\n",
      "60000/60000 [==============================] - 15s 245us/sample - loss: 0.2250 - accuracy: 0.9352\n",
      "Epoch 2/10\n",
      "60000/60000 [==============================] - 15s 258us/sample - loss: 0.0924 - accuracy: 0.9720\n",
      "Epoch 3/10\n",
      "60000/60000 [==============================] - 10s 170us/sample - loss: 0.0611 - accuracy: 0.9814\n",
      "Epoch 4/10\n",
      "60000/60000 [==============================] - 10s 167us/sample - loss: 0.0439 - accuracy: 0.9860\n",
      "Epoch 5/10\n",
      "60000/60000 [==============================] - 22s 363us/sample - loss: 0.0324 - accuracy: 0.9898\n",
      "Epoch 6/10\n",
      "59520/60000 [============================>.] - ETA: 0s - loss: 0.0252 - accuracy: 0.9921Reached 99% accuracy so cancelling training!\n",
      "60000/60000 [==============================] - 9s 144us/sample - loss: 0.0252 - accuracy: 0.9921\n"
     ]
    },
    {
     "data": {
      "text/plain": [
       "<tensorflow.python.keras.callbacks.History at 0x25adbb83c48>"
      ]
     },
     "execution_count": 6,
     "metadata": {},
     "output_type": "execute_result"
    }
   ],
   "source": [
    "#fit the model\n",
    "_callback = MyCallback()\n",
    "model.fit(training_images, training_labels, epochs=10, callbacks=[_callback])"
   ]
  },
  {
   "cell_type": "code",
   "execution_count": 7,
   "metadata": {
    "colab": {},
    "colab_type": "code",
    "id": "7Cs4SReLL6K8"
   },
   "outputs": [
    {
     "name": "stdout",
     "output_type": "stream",
     "text": [
      "10000/10000 [==============================] - 2s 203us/sample - loss: 0.0782 - accuracy: 0.9767\n"
     ]
    },
    {
     "data": {
      "text/plain": [
       "[0.07817119654597045, 0.9767]"
      ]
     },
     "execution_count": 7,
     "metadata": {},
     "output_type": "execute_result"
    }
   ],
   "source": [
    "model.evaluate(test_images, test_labels)"
   ]
  },
  {
   "cell_type": "code",
   "execution_count": 8,
   "metadata": {
    "colab": {},
    "colab_type": "code",
    "id": "v-ifwhczPinj"
   },
   "outputs": [],
   "source": [
    "classifications = model.predict(test_images)"
   ]
  },
  {
   "cell_type": "code",
   "execution_count": 13,
   "metadata": {
    "colab": {
     "base_uri": "https://localhost:8080/",
     "height": 299
    },
    "colab_type": "code",
    "id": "ahLNjl5oPxY6",
    "outputId": "6bdf31c0-43be-4a05-9081-dd692563b876"
   },
   "outputs": [
    {
     "name": "stdout",
     "output_type": "stream",
     "text": [
      "The number is:  6\n"
     ]
    },
    {
     "data": {
      "text/plain": [
       "<matplotlib.image.AxesImage at 0x25adf7c7f08>"
      ]
     },
     "execution_count": 13,
     "metadata": {},
     "output_type": "execute_result"
    },
    {
     "data": {
      "image/png": "[encoded data removed]",
      "text/plain": [
       "<Figure size 432x288 with 1 Axes>"
      ]
     },
     "metadata": {
      "needs_background": "light"
     },
     "output_type": "display_data"
    }
   ],
   "source": [
    "print(\"The number is: \", np.where(classifications[100] == np.amax(classifications[100]))[0][0])\n",
    "plt.imshow(test_images[100])"
   ]
  },
  {
   "cell_type": "code",
   "execution_count": 15,
   "metadata": {
    "colab": {
     "base_uri": "https://localhost:8080/",
     "height": 68
    },
    "colab_type": "code",
    "id": "HYFnmurcQOoW",
    "outputId": "03207ce2-5e24-430f-821d-ccd711835404"
   },
   "outputs": [
    {
     "data": {
      "text/plain": [
       "array([9.9999368e-01, 2.2338100e-11, 8.8630845e-09, 1.3280604e-11,\n",
       "       7.7507040e-16, 7.5492351e-10, 6.2708441e-06, 2.8128906e-09,\n",
       "       4.5396057e-14, 1.2063844e-10], dtype=float32)"
      ]
     },
     "execution_count": 15,
     "metadata": {},
     "output_type": "execute_result"
    }
   ],
   "source": [
    "classifications[101]"
   ]
  },
  {
   "cell_type": "code",
   "execution_count": null,
   "metadata": {
    "colab": {},
    "colab_type": "code",
    "id": "WJA7HLjLT64m"
   },
   "outputs": [],
   "source": []
  }
 ],
 "metadata": {
  "accelerator": "GPU",
  "colab": {
   "name": "3_Handwritten_Digit_recognition.ipynb",
   "provenance": [],
   "toc_visible": true
  },
  "kernelspec": {
   "display_name": "Python 3",
   "language": "python",
   "name": "python3"
  },
  "language_info": {
   "codemirror_mode": {
    "name": "ipython",
    "version": 3
   },
   "file_extension": ".py",
   "mimetype": "text/x-python",
   "name": "python",
   "nbconvert_exporter": "python",
   "pygments_lexer": "ipython3",
   "version": "3.7.7"
  }
 },
 "nbformat": 4,
 "nbformat_minor": 4
}
