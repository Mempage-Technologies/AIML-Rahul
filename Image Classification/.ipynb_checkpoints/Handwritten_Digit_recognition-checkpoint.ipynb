{
  "nbformat": 4,
  "nbformat_minor": 0,
  "metadata": {
    "colab": {
      "name": "3_Handwritten_Digit_recognition.ipynb",
      "provenance": [],
      "toc_visible": true
    },
    "kernelspec": {
      "name": "python3",
      "display_name": "Python 3"
    },
    "accelerator": "GPU"
  },
  "cells": [
    {
      "cell_type": "markdown",
      "metadata": {
        "id": "WzNfsnShVF8I",
        "colab_type": "text"
      },
      "source": [
        "###**Importing the required modules**"
      ]
    },
    {
      "cell_type": "code",
      "metadata": {
        "id": "bJSwBNPUVCYv",
        "colab_type": "code",
        "colab": {}
      },
      "source": [
        "%tensorflow_version 2.x\n",
        "import tensorflow as tf\n",
        "import numpy as np\n",
        "from tensorflow import keras\n",
        "import matplotlib.pyplot as plt"
      ],
      "execution_count": 0,
      "outputs": []
    },
    {
      "cell_type": "markdown",
      "metadata": {
        "id": "sZb1Tr4gLXfd",
        "colab_type": "text"
      },
      "source": [
        "###**Getting the data**"
      ]
    },
    {
      "cell_type": "code",
      "metadata": {
        "id": "Ou07WbvEVVo0",
        "colab_type": "code",
        "outputId": "aae31878-48ee-4ab9-eb4d-7cbbd0dcfa5a",
        "colab": {
          "base_uri": "https://localhost:8080/",
          "height": 282
        }
      },
      "source": [
        "mnist = keras.datasets.mnist\n",
        "(training_images, training_labels), (test_images, test_labels) = mnist.load_data()\n",
        "\n",
        "#normalize the data\n",
        "training_images = training_images/255.0\n",
        "test_images     = test_images/255.0\n",
        "\n",
        "\n",
        "plt.imshow(training_images[0])\n",
        "print(training_labels[0])"
      ],
      "execution_count": 0,
      "outputs": [
        {
          "output_type": "stream",
          "text": [
            "5\n"
          ],
          "name": "stdout"
        },
        {
          "output_type": "display_data",
          "data": {
            "image/png": "[encoded data removed]",
            "text/plain": [
              "<Figure size 432x288 with 1 Axes>"
            ]
          },
          "metadata": {
            "tags": [],
            "needs_background": "light"
          }
        }
      ]
    },
    {
      "cell_type": "markdown",
      "metadata": {
        "id": "0RUfncOwMESv",
        "colab_type": "text"
      },
      "source": [
        "###**Callbacks**"
      ]
    },
    {
      "cell_type": "code",
      "metadata": {
        "id": "JdiFbyapMH_V",
        "colab_type": "code",
        "colab": {}
      },
      "source": [
        "#the callback that runs when the training reaches 99%\n",
        "\n",
        "class MyCallback(keras.callbacks.Callback):\n",
        "\n",
        "  def on_epoch_end(self, epoch, logs={}):\n",
        "    if(logs.get('accuracy') >= 0.99):\n",
        "      print(\"Reached 99% accuracy so cancelling training!\")\n",
        "      self.model.stop_training = True"
      ],
      "execution_count": 0,
      "outputs": []
    },
    {
      "cell_type": "markdown",
      "metadata": {
        "id": "UeF4-xlaw-QN",
        "colab_type": "text"
      },
      "source": [
        "###**Create the model, compile and fit it**"
      ]
    },
    {
      "cell_type": "code",
      "metadata": {
        "id": "TgBIIuByVqDV",
        "colab_type": "code",
        "colab": {}
      },
      "source": [
        "#create the model\n",
        "model = keras.models.Sequential([\n",
        "                                    \n",
        "                  keras.layers.Flatten(input_shape=(28,28)),\n",
        "                  keras.layers.Dense(256, activation='relu'),\n",
        "                  keras.layers.Dense(10, activation='softmax')\n",
        "                  ])"
      ],
      "execution_count": 0,
      "outputs": []
    },
    {
      "cell_type": "code",
      "metadata": {
        "id": "eMx4V3WWV6nU",
        "colab_type": "code",
        "colab": {}
      },
      "source": [
        "#compile the model\n",
        "model.compile(optimizer='adam', \n",
        "              loss='sparse_categorical_crossentropy',\n",
        "              metrics=['accuracy'])"
      ],
      "execution_count": 0,
      "outputs": []
    },
    {
      "cell_type": "code",
      "metadata": {
        "id": "m3Lq0J7hLz2e",
        "colab_type": "code",
        "outputId": "94867c48-ffe1-45ad-848a-ff9650d694a4",
        "colab": {
          "base_uri": "https://localhost:8080/",
          "height": 292
        }
      },
      "source": [
        "#fit the model\n",
        "_callback = MyCallback()\n",
        "model.fit(training_images, training_labels, epochs=10, callbacks=[_callback])"
      ],
      "execution_count": 0,
      "outputs": [
        {
          "output_type": "stream",
          "text": [
            "Train on 60000 samples\n",
            "Epoch 1/10\n",
            "60000/60000 [==============================] - 5s 90us/sample - loss: 0.2274 - accuracy: 0.9344\n",
            "Epoch 2/10\n",
            "60000/60000 [==============================] - 5s 86us/sample - loss: 0.0930 - accuracy: 0.9720\n",
            "Epoch 3/10\n",
            "60000/60000 [==============================] - 5s 89us/sample - loss: 0.0619 - accuracy: 0.9809\n",
            "Epoch 4/10\n",
            "60000/60000 [==============================] - 5s 87us/sample - loss: 0.0442 - accuracy: 0.9869\n",
            "Epoch 5/10\n",
            "60000/60000 [==============================] - 5s 87us/sample - loss: 0.0337 - accuracy: 0.9892\n",
            "Epoch 6/10\n",
            "59616/60000 [============================>.] - ETA: 0s - loss: 0.0246 - accuracy: 0.9924Reached 99% accuracy so cancelling training!\n",
            "60000/60000 [==============================] - 5s 87us/sample - loss: 0.0248 - accuracy: 0.9923\n"
          ],
          "name": "stdout"
        },
        {
          "output_type": "execute_result",
          "data": {
            "text/plain": [
              "<tensorflow.python.keras.callbacks.History at 0x7fb4b4ae87f0>"
            ]
          },
          "metadata": {
            "tags": []
          },
          "execution_count": 59
        }
      ]
    },
    {
      "cell_type": "code",
      "metadata": {
        "id": "7Cs4SReLL6K8",
        "colab_type": "code",
        "colab": {}
      },
      "source": [
        "model.evaluate(test_images, test_labels)"
      ],
      "execution_count": 0,
      "outputs": []
    },
    {
      "cell_type": "code",
      "metadata": {
        "id": "v-ifwhczPinj",
        "colab_type": "code",
        "colab": {}
      },
      "source": [
        "classifications = model.predict(test_images)"
      ],
      "execution_count": 0,
      "outputs": []
    },
    {
      "cell_type": "code",
      "metadata": {
        "id": "ahLNjl5oPxY6",
        "colab_type": "code",
        "outputId": "6bdf31c0-43be-4a05-9081-dd692563b876",
        "colab": {
          "base_uri": "https://localhost:8080/",
          "height": 299
        }
      },
      "source": [
        "print(\"The number is: \", np.where(classifications[78] == np.amax(classifications[78]))[0][0])\n",
        "plt.imshow(test_images[78])"
      ],
      "execution_count": 0,
      "outputs": [
        {
          "output_type": "stream",
          "text": [
            "The number is:  9\n"
          ],
          "name": "stdout"
        },
        {
          "output_type": "execute_result",
          "data": {
            "text/plain": [
              "<matplotlib.image.AxesImage at 0x7fb4b2d19b70>"
            ]
          },
          "metadata": {
            "tags": []
          },
          "execution_count": 80
        },
        {
          "output_type": "display_data",
          "data": {
            "image/png": "[encoded data removed]",
            "text/plain": [
              "<Figure size 432x288 with 1 Axes>"
            ]
          },
          "metadata": {
            "tags": []
          }
        }
      ]
    },
    {
      "cell_type": "code",
      "metadata": {
        "id": "HYFnmurcQOoW",
        "colab_type": "code",
        "outputId": "03207ce2-5e24-430f-821d-ccd711835404",
        "colab": {
          "base_uri": "https://localhost:8080/",
          "height": 68
        }
      },
      "source": [
        "classifications[0]"
      ],
      "execution_count": 0,
      "outputs": [
        {
          "output_type": "execute_result",
          "data": {
            "text/plain": [
              "array([2.0928805e-07, 4.3039669e-11, 2.0418395e-06, 3.6881518e-06,\n",
              "       4.8744177e-12, 1.0580359e-09, 4.4548707e-13, 9.9999368e-01,\n",
              "       1.7378227e-07, 1.5756768e-07], dtype=float32)"
            ]
          },
          "metadata": {
            "tags": []
          },
          "execution_count": 67
        }
      ]
    },
    {
      "cell_type": "code",
      "metadata": {
        "id": "WJA7HLjLT64m",
        "colab_type": "code",
        "colab": {}
      },
      "source": [
        ""
      ],
      "execution_count": 0,
      "outputs": []
    }
  ]
}